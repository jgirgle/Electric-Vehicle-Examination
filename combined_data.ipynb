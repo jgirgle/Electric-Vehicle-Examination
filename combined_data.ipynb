{
 "cells": [
  {
   "cell_type": "code",
   "execution_count": 3,
   "metadata": {},
   "outputs": [
    {
     "name": "stdout",
     "output_type": "stream",
     "text": [
      "Collecting seaborn\n",
      "  Downloading seaborn-0.11.1-py3-none-any.whl (285 kB)\n",
      "\u001b[K     |████████████████████████████████| 285 kB 766 kB/s eta 0:00:01\n",
      "\u001b[?25hRequirement already satisfied: numpy>=1.15 in /Users/girgs/opt/anaconda3/envs/google/lib/python3.8/site-packages (from seaborn) (1.19.2)\n",
      "Requirement already satisfied: scipy>=1.0 in /Users/girgs/opt/anaconda3/envs/google/lib/python3.8/site-packages (from seaborn) (1.5.2)\n",
      "Requirement already satisfied: pandas>=0.23 in /Users/girgs/opt/anaconda3/envs/google/lib/python3.8/site-packages (from seaborn) (1.2.1)\n",
      "Requirement already satisfied: matplotlib>=2.2 in /Users/girgs/opt/anaconda3/envs/google/lib/python3.8/site-packages (from seaborn) (3.3.2)\n",
      "Requirement already satisfied: kiwisolver>=1.0.1 in /Users/girgs/opt/anaconda3/envs/google/lib/python3.8/site-packages (from matplotlib>=2.2->seaborn) (1.3.0)\n",
      "Requirement already satisfied: certifi>=2020.06.20 in /Users/girgs/opt/anaconda3/envs/google/lib/python3.8/site-packages (from matplotlib>=2.2->seaborn) (2020.12.5)\n",
      "Requirement already satisfied: pyparsing!=2.0.4,!=2.1.2,!=2.1.6,>=2.0.3 in /Users/girgs/opt/anaconda3/envs/google/lib/python3.8/site-packages (from matplotlib>=2.2->seaborn) (2.4.7)\n",
      "Requirement already satisfied: pillow>=6.2.0 in /Users/girgs/opt/anaconda3/envs/google/lib/python3.8/site-packages (from matplotlib>=2.2->seaborn) (8.1.0)\n",
      "Requirement already satisfied: python-dateutil>=2.1 in /Users/girgs/opt/anaconda3/envs/google/lib/python3.8/site-packages (from matplotlib>=2.2->seaborn) (2.8.1)\n",
      "Requirement already satisfied: cycler>=0.10 in /Users/girgs/opt/anaconda3/envs/google/lib/python3.8/site-packages (from matplotlib>=2.2->seaborn) (0.10.0)\n",
      "Requirement already satisfied: six in /Users/girgs/opt/anaconda3/envs/google/lib/python3.8/site-packages (from cycler>=0.10->matplotlib>=2.2->seaborn) (1.15.0)\n",
      "Requirement already satisfied: pytz>=2017.3 in /Users/girgs/opt/anaconda3/envs/google/lib/python3.8/site-packages (from pandas>=0.23->seaborn) (2020.5)\n",
      "Installing collected packages: seaborn\n",
      "Successfully installed seaborn-0.11.1\n"
     ]
    }
   ],
   "source": []
  },
  {
   "cell_type": "code",
   "execution_count": 2,
   "metadata": {},
   "outputs": [],
   "source": [
    "# Dependencies and Setup\n",
    "import matplotlib.pyplot as plt\n",
    "import pandas as pd\n",
    "import scipy.stats as st\n",
    "import numpy as np\n",
    "import scipy.stats as linregress\n",
    "import seaborn as sns\n",
    "from pandas import IndexSlice as idx"
   ]
  },
  {
   "cell_type": "code",
   "execution_count": 4,
   "metadata": {},
   "outputs": [],
   "source": [
    "csv_path = \"../Electric_Vehicle_Data/Resources/cleaned_vehicle_data_2018.csv\"\n",
    "csv_path_carbon = \"../Emissions_Data/carbon_monoxide.csv\"\n",
    "csv_path_methane = \"../Emissions_Data/methane.csv\""
   ]
  },
  {
   "cell_type": "code",
   "execution_count": 5,
   "metadata": {},
   "outputs": [],
   "source": [
    "vehicle_data = pd.read_csv(csv_path)\n",
    "carbon_data = pd.read_csv(csv_path_carbon)\n",
    "methane_data = pd.read_csv(csv_path_methane)"
   ]
  },
  {
   "cell_type": "code",
   "execution_count": null,
   "metadata": {},
   "outputs": [],
   "source": []
  },
  {
   "cell_type": "code",
   "execution_count": 6,
   "metadata": {},
   "outputs": [
    {
     "data": {
      "text/html": [
       "<div>\n",
       "<style scoped>\n",
       "    .dataframe tbody tr th:only-of-type {\n",
       "        vertical-align: middle;\n",
       "    }\n",
       "\n",
       "    .dataframe tbody tr th {\n",
       "        vertical-align: top;\n",
       "    }\n",
       "\n",
       "    .dataframe thead th {\n",
       "        text-align: right;\n",
       "    }\n",
       "</style>\n",
       "<table border=\"1\" class=\"dataframe\">\n",
       "  <thead>\n",
       "    <tr style=\"text-align: right;\">\n",
       "      <th></th>\n",
       "      <th>Vehicles</th>\n",
       "    </tr>\n",
       "    <tr>\n",
       "      <th>Model Year</th>\n",
       "      <th></th>\n",
       "    </tr>\n",
       "  </thead>\n",
       "  <tbody>\n",
       "    <tr>\n",
       "      <th>2009</th>\n",
       "      <td>735</td>\n",
       "    </tr>\n",
       "    <tr>\n",
       "      <th>2010</th>\n",
       "      <td>1807</td>\n",
       "    </tr>\n",
       "    <tr>\n",
       "      <th>2011</th>\n",
       "      <td>6098</td>\n",
       "    </tr>\n",
       "    <tr>\n",
       "      <th>2012</th>\n",
       "      <td>11727</td>\n",
       "    </tr>\n",
       "    <tr>\n",
       "      <th>2013</th>\n",
       "      <td>28064</td>\n",
       "    </tr>\n",
       "    <tr>\n",
       "      <th>2014</th>\n",
       "      <td>43522</td>\n",
       "    </tr>\n",
       "    <tr>\n",
       "      <th>2015</th>\n",
       "      <td>67409</td>\n",
       "    </tr>\n",
       "    <tr>\n",
       "      <th>2016</th>\n",
       "      <td>108803</td>\n",
       "    </tr>\n",
       "    <tr>\n",
       "      <th>2017</th>\n",
       "      <td>163030</td>\n",
       "    </tr>\n",
       "    <tr>\n",
       "      <th>2018</th>\n",
       "      <td>215182</td>\n",
       "    </tr>\n",
       "  </tbody>\n",
       "</table>\n",
       "</div>"
      ],
      "text/plain": [
       "            Vehicles\n",
       "Model Year          \n",
       "2009             735\n",
       "2010            1807\n",
       "2011            6098\n",
       "2012           11727\n",
       "2013           28064\n",
       "2014           43522\n",
       "2015           67409\n",
       "2016          108803\n",
       "2017          163030\n",
       "2018          215182"
      ]
     },
     "execution_count": 6,
     "metadata": {},
     "output_type": "execute_result"
    }
   ],
   "source": [
    "\n",
    "\n",
    "#vehicle_year = vehicle_data.groupby([\"Model Year\"])[[\"Vehicles\"]].sum()\n",
    "vehicle_year_electric = vehicle_data.query(\"Fuel == 'Battery Electric'\")\\\n",
    "    .groupby([\"Model Year\"])[[\"Vehicles\"]]\\\n",
    "    .sum()\\\n",
    "    .cumsum()\n",
    "vehicle_year_electric"
   ]
  },
  {
   "cell_type": "code",
   "execution_count": 7,
   "metadata": {},
   "outputs": [
    {
     "data": {
      "text/html": [
       "<div>\n",
       "<style scoped>\n",
       "    .dataframe tbody tr th:only-of-type {\n",
       "        vertical-align: middle;\n",
       "    }\n",
       "\n",
       "    .dataframe tbody tr th {\n",
       "        vertical-align: top;\n",
       "    }\n",
       "\n",
       "    .dataframe thead th {\n",
       "        text-align: right;\n",
       "    }\n",
       "</style>\n",
       "<table border=\"1\" class=\"dataframe\">\n",
       "  <thead>\n",
       "    <tr style=\"text-align: right;\">\n",
       "      <th></th>\n",
       "      <th>Vehicles</th>\n",
       "    </tr>\n",
       "    <tr>\n",
       "      <th>Model Year</th>\n",
       "      <th></th>\n",
       "    </tr>\n",
       "  </thead>\n",
       "  <tbody>\n",
       "    <tr>\n",
       "      <th>2009</th>\n",
       "      <td>733345</td>\n",
       "    </tr>\n",
       "    <tr>\n",
       "      <th>2010</th>\n",
       "      <td>1560751</td>\n",
       "    </tr>\n",
       "    <tr>\n",
       "      <th>2011</th>\n",
       "      <td>2458872</td>\n",
       "    </tr>\n",
       "    <tr>\n",
       "      <th>2012</th>\n",
       "      <td>3564936</td>\n",
       "    </tr>\n",
       "    <tr>\n",
       "      <th>2013</th>\n",
       "      <td>4900915</td>\n",
       "    </tr>\n",
       "    <tr>\n",
       "      <th>2014</th>\n",
       "      <td>6284891</td>\n",
       "    </tr>\n",
       "    <tr>\n",
       "      <th>2015</th>\n",
       "      <td>7961848</td>\n",
       "    </tr>\n",
       "    <tr>\n",
       "      <th>2016</th>\n",
       "      <td>9712527</td>\n",
       "    </tr>\n",
       "    <tr>\n",
       "      <th>2017</th>\n",
       "      <td>11562122</td>\n",
       "    </tr>\n",
       "    <tr>\n",
       "      <th>2018</th>\n",
       "      <td>13033721</td>\n",
       "    </tr>\n",
       "  </tbody>\n",
       "</table>\n",
       "</div>"
      ],
      "text/plain": [
       "            Vehicles\n",
       "Model Year          \n",
       "2009          733345\n",
       "2010         1560751\n",
       "2011         2458872\n",
       "2012         3564936\n",
       "2013         4900915\n",
       "2014         6284891\n",
       "2015         7961848\n",
       "2016         9712527\n",
       "2017        11562122\n",
       "2018        13033721"
      ]
     },
     "execution_count": 7,
     "metadata": {},
     "output_type": "execute_result"
    }
   ],
   "source": [
    "vehicle_year_gas = vehicle_data.query(\"Fuel == 'Gasoline'\")\\\n",
    "    .groupby([\"Model Year\"])[[\"Vehicles\"]]\\\n",
    "    .sum()\\\n",
    "    .cumsum()\n",
    "vehicle_year_gas"
   ]
  },
  {
   "cell_type": "code",
   "execution_count": 8,
   "metadata": {},
   "outputs": [],
   "source": [
    "carbon_data_drop = carbon_data.drop(columns = ['county_code', 'site_number',\n",
    "        'parameter_code', 'poc', 'latitude', 'longitude', 'datum', 'parameter',\n",
    "        'sample_duration', 'pollutant_standard', 'event_type', 'observation_count',\n",
    "        'observation_percent', 'validity_indicator',\n",
    "        'first_max_value', 'first_max_hour', 'aqi', 'method_code', 'method',\n",
    "        'local_site_name','cbsa_code', 'cbsa', 'date_of_last_change', 'site_address' ,])\\\n",
    "        .query('year != 2019')"
   ]
  },
  {
   "cell_type": "code",
   "execution_count": 9,
   "metadata": {},
   "outputs": [],
   "source": [
    "carbon_mean = carbon_data_drop.groupby('year').mean()['arithmetic_mean']"
   ]
  },
  {
   "cell_type": "code",
   "execution_count": 10,
   "metadata": {},
   "outputs": [],
   "source": [
    "methane_data_drop = methane_data.drop(columns = ['county_code', 'site_number',\n",
    "        'parameter_code', 'poc', 'latitude', 'longitude', 'datum', 'parameter',\n",
    "        'sample_duration', 'pollutant_standard', 'event_type', 'observation_count',\n",
    "        'observation_percent', 'validity_indicator',\n",
    "        'first_max_value', 'first_max_hour', 'aqi', 'method_code', 'method',\n",
    "        'local_site_name','cbsa_code', 'cbsa', 'date_of_last_change', 'site_address', 'state'])"
   ]
  },
  {
   "cell_type": "code",
   "execution_count": 11,
   "metadata": {},
   "outputs": [],
   "source": [
    "methane_mean = methane_data_drop.groupby('year').mean()['arithmetic_mean']"
   ]
  },
  {
   "cell_type": "code",
   "execution_count": 12,
   "metadata": {},
   "outputs": [
    {
     "data": {
      "text/html": [
       "<div>\n",
       "<style scoped>\n",
       "    .dataframe tbody tr th:only-of-type {\n",
       "        vertical-align: middle;\n",
       "    }\n",
       "\n",
       "    .dataframe tbody tr th {\n",
       "        vertical-align: top;\n",
       "    }\n",
       "\n",
       "    .dataframe thead th {\n",
       "        text-align: right;\n",
       "    }\n",
       "</style>\n",
       "<table border=\"1\" class=\"dataframe\">\n",
       "  <thead>\n",
       "    <tr style=\"text-align: right;\">\n",
       "      <th></th>\n",
       "      <th>Vehicles</th>\n",
       "      <th>arithmetic_mean</th>\n",
       "      <th>arithmetic_meanmethane</th>\n",
       "    </tr>\n",
       "    <tr>\n",
       "      <th>Model Year</th>\n",
       "      <th></th>\n",
       "      <th></th>\n",
       "      <th></th>\n",
       "    </tr>\n",
       "  </thead>\n",
       "  <tbody>\n",
       "    <tr>\n",
       "      <th>2009</th>\n",
       "      <td>735</td>\n",
       "      <td>0.368803</td>\n",
       "      <td>1973.651797</td>\n",
       "    </tr>\n",
       "    <tr>\n",
       "      <th>2010</th>\n",
       "      <td>1807</td>\n",
       "      <td>0.342977</td>\n",
       "      <td>2020.389881</td>\n",
       "    </tr>\n",
       "    <tr>\n",
       "      <th>2011</th>\n",
       "      <td>6098</td>\n",
       "      <td>0.359915</td>\n",
       "      <td>2087.843476</td>\n",
       "    </tr>\n",
       "    <tr>\n",
       "      <th>2012</th>\n",
       "      <td>11727</td>\n",
       "      <td>0.349654</td>\n",
       "      <td>1995.588721</td>\n",
       "    </tr>\n",
       "    <tr>\n",
       "      <th>2013</th>\n",
       "      <td>28064</td>\n",
       "      <td>0.342753</td>\n",
       "      <td>2053.379150</td>\n",
       "    </tr>\n",
       "    <tr>\n",
       "      <th>2014</th>\n",
       "      <td>43522</td>\n",
       "      <td>0.323675</td>\n",
       "      <td>2066.990588</td>\n",
       "    </tr>\n",
       "    <tr>\n",
       "      <th>2015</th>\n",
       "      <td>67409</td>\n",
       "      <td>0.332318</td>\n",
       "      <td>2086.622332</td>\n",
       "    </tr>\n",
       "    <tr>\n",
       "      <th>2016</th>\n",
       "      <td>108803</td>\n",
       "      <td>0.326665</td>\n",
       "      <td>2052.360898</td>\n",
       "    </tr>\n",
       "    <tr>\n",
       "      <th>2017</th>\n",
       "      <td>163030</td>\n",
       "      <td>0.340594</td>\n",
       "      <td>2097.772138</td>\n",
       "    </tr>\n",
       "    <tr>\n",
       "      <th>2018</th>\n",
       "      <td>215182</td>\n",
       "      <td>0.331375</td>\n",
       "      <td>2399.697731</td>\n",
       "    </tr>\n",
       "  </tbody>\n",
       "</table>\n",
       "</div>"
      ],
      "text/plain": [
       "            Vehicles  arithmetic_mean  arithmetic_meanmethane\n",
       "Model Year                                                   \n",
       "2009             735         0.368803             1973.651797\n",
       "2010            1807         0.342977             2020.389881\n",
       "2011            6098         0.359915             2087.843476\n",
       "2012           11727         0.349654             1995.588721\n",
       "2013           28064         0.342753             2053.379150\n",
       "2014           43522         0.323675             2066.990588\n",
       "2015           67409         0.332318             2086.622332\n",
       "2016          108803         0.326665             2052.360898\n",
       "2017          163030         0.340594             2097.772138\n",
       "2018          215182         0.331375             2399.697731"
      ]
     },
     "execution_count": 12,
     "metadata": {},
     "output_type": "execute_result"
    }
   ],
   "source": [
    "yearly_emmisions_electric = vehicle_year_electric.join(carbon_mean, rsuffix='carbon')\\\n",
    "    .join(methane_mean, rsuffix='methane')\n",
    "yearly_emmisions_electric"
   ]
  },
  {
   "cell_type": "code",
   "execution_count": 13,
   "metadata": {},
   "outputs": [
    {
     "data": {
      "text/plain": [
       "<AxesSubplot:label='1cf65b2b-e094-477b-a21c-4931b46e06ab', xlabel='Model Year', ylabel='arithmetic_mean'>"
      ]
     },
     "execution_count": 13,
     "metadata": {},
     "output_type": "execute_result"
    },
    {
     "data": {
      "image/png": "[encoded data removed]",
      "text/plain": [
       "<Figure size 432x288 with 2 Axes>"
      ]
     },
     "metadata": {
      "needs_background": "light"
     },
     "output_type": "display_data"
    }
   ],
   "source": [
    "ax = sns.lineplot(x=\"Model Year\", y=\"Vehicles\", data=yearly_emmisions_electric.reset_index())\n",
    "ax_2 = ax.twinx()\n",
    "sns.lineplot(x=\"Model Year\", y=\"arithmetic_mean\", ax=ax_2, color=\"red\", data=yearly_emmisions_electric.reset_index())\n",
    "\n"
   ]
  },
  {
   "cell_type": "code",
   "execution_count": 14,
   "metadata": {},
   "outputs": [
    {
     "data": {
      "text/plain": [
       "<AxesSubplot:label='baef57a2-86e4-4bb6-be37-3532542d34c4', xlabel='Model Year', ylabel='arithmetic_meanmethane'>"
      ]
     },
     "execution_count": 14,
     "metadata": {},
     "output_type": "execute_result"
    },
    {
     "data": {
      "image/png": "[encoded data removed]",
      "text/plain": [
       "<Figure size 432x288 with 2 Axes>"
      ]
     },
     "metadata": {
      "needs_background": "light"
     },
     "output_type": "display_data"
    }
   ],
   "source": [
    "ax = sns.lineplot(x=\"Model Year\", y=\"Vehicles\", data=yearly_emmisions_electric.reset_index())\n",
    "ax_3 = ax.twinx()\n",
    "sns.lineplot(x=\"Model Year\", y=\"arithmetic_meanmethane\", ax=ax_3, color=\"red\", data=yearly_emmisions_electric.reset_index())"
   ]
  },
  {
   "cell_type": "code",
   "execution_count": 15,
   "metadata": {},
   "outputs": [
    {
     "data": {
      "text/html": [
       "<div>\n",
       "<style scoped>\n",
       "    .dataframe tbody tr th:only-of-type {\n",
       "        vertical-align: middle;\n",
       "    }\n",
       "\n",
       "    .dataframe tbody tr th {\n",
       "        vertical-align: top;\n",
       "    }\n",
       "\n",
       "    .dataframe thead th {\n",
       "        text-align: right;\n",
       "    }\n",
       "</style>\n",
       "<table border=\"1\" class=\"dataframe\">\n",
       "  <thead>\n",
       "    <tr style=\"text-align: right;\">\n",
       "      <th></th>\n",
       "      <th>Vehicles</th>\n",
       "      <th>arithmetic_mean</th>\n",
       "      <th>arithmetic_meanmethane</th>\n",
       "    </tr>\n",
       "  </thead>\n",
       "  <tbody>\n",
       "    <tr>\n",
       "      <th>Vehicles</th>\n",
       "      <td>1.000000</td>\n",
       "      <td>-0.546022</td>\n",
       "      <td>0.809035</td>\n",
       "    </tr>\n",
       "    <tr>\n",
       "      <th>arithmetic_mean</th>\n",
       "      <td>-0.546022</td>\n",
       "      <td>1.000000</td>\n",
       "      <td>-0.406216</td>\n",
       "    </tr>\n",
       "    <tr>\n",
       "      <th>arithmetic_meanmethane</th>\n",
       "      <td>0.809035</td>\n",
       "      <td>-0.406216</td>\n",
       "      <td>1.000000</td>\n",
       "    </tr>\n",
       "  </tbody>\n",
       "</table>\n",
       "</div>"
      ],
      "text/plain": [
       "                        Vehicles  arithmetic_mean  arithmetic_meanmethane\n",
       "Vehicles                1.000000        -0.546022                0.809035\n",
       "arithmetic_mean        -0.546022         1.000000               -0.406216\n",
       "arithmetic_meanmethane  0.809035        -0.406216                1.000000"
      ]
     },
     "execution_count": 15,
     "metadata": {},
     "output_type": "execute_result"
    }
   ],
   "source": [
    "yearly_emmisions_electric.corr()"
   ]
  },
  {
   "cell_type": "code",
   "execution_count": 16,
   "metadata": {},
   "outputs": [
    {
     "data": {
      "text/html": [
       "<div>\n",
       "<style scoped>\n",
       "    .dataframe tbody tr th:only-of-type {\n",
       "        vertical-align: middle;\n",
       "    }\n",
       "\n",
       "    .dataframe tbody tr th {\n",
       "        vertical-align: top;\n",
       "    }\n",
       "\n",
       "    .dataframe thead th {\n",
       "        text-align: right;\n",
       "    }\n",
       "</style>\n",
       "<table border=\"1\" class=\"dataframe\">\n",
       "  <thead>\n",
       "    <tr style=\"text-align: right;\">\n",
       "      <th></th>\n",
       "      <th>Vehicles</th>\n",
       "      <th>arithmetic_mean</th>\n",
       "      <th>arithmetic_meanmethane</th>\n",
       "    </tr>\n",
       "    <tr>\n",
       "      <th>Model Year</th>\n",
       "      <th></th>\n",
       "      <th></th>\n",
       "      <th></th>\n",
       "    </tr>\n",
       "  </thead>\n",
       "  <tbody>\n",
       "    <tr>\n",
       "      <th>2009</th>\n",
       "      <td>733345</td>\n",
       "      <td>0.368803</td>\n",
       "      <td>1973.651797</td>\n",
       "    </tr>\n",
       "    <tr>\n",
       "      <th>2010</th>\n",
       "      <td>1560751</td>\n",
       "      <td>0.342977</td>\n",
       "      <td>2020.389881</td>\n",
       "    </tr>\n",
       "    <tr>\n",
       "      <th>2011</th>\n",
       "      <td>2458872</td>\n",
       "      <td>0.359915</td>\n",
       "      <td>2087.843476</td>\n",
       "    </tr>\n",
       "    <tr>\n",
       "      <th>2012</th>\n",
       "      <td>3564936</td>\n",
       "      <td>0.349654</td>\n",
       "      <td>1995.588721</td>\n",
       "    </tr>\n",
       "    <tr>\n",
       "      <th>2013</th>\n",
       "      <td>4900915</td>\n",
       "      <td>0.342753</td>\n",
       "      <td>2053.379150</td>\n",
       "    </tr>\n",
       "    <tr>\n",
       "      <th>2014</th>\n",
       "      <td>6284891</td>\n",
       "      <td>0.323675</td>\n",
       "      <td>2066.990588</td>\n",
       "    </tr>\n",
       "    <tr>\n",
       "      <th>2015</th>\n",
       "      <td>7961848</td>\n",
       "      <td>0.332318</td>\n",
       "      <td>2086.622332</td>\n",
       "    </tr>\n",
       "    <tr>\n",
       "      <th>2016</th>\n",
       "      <td>9712527</td>\n",
       "      <td>0.326665</td>\n",
       "      <td>2052.360898</td>\n",
       "    </tr>\n",
       "    <tr>\n",
       "      <th>2017</th>\n",
       "      <td>11562122</td>\n",
       "      <td>0.340594</td>\n",
       "      <td>2097.772138</td>\n",
       "    </tr>\n",
       "    <tr>\n",
       "      <th>2018</th>\n",
       "      <td>13033721</td>\n",
       "      <td>0.331375</td>\n",
       "      <td>2399.697731</td>\n",
       "    </tr>\n",
       "  </tbody>\n",
       "</table>\n",
       "</div>"
      ],
      "text/plain": [
       "            Vehicles  arithmetic_mean  arithmetic_meanmethane\n",
       "Model Year                                                   \n",
       "2009          733345         0.368803             1973.651797\n",
       "2010         1560751         0.342977             2020.389881\n",
       "2011         2458872         0.359915             2087.843476\n",
       "2012         3564936         0.349654             1995.588721\n",
       "2013         4900915         0.342753             2053.379150\n",
       "2014         6284891         0.323675             2066.990588\n",
       "2015         7961848         0.332318             2086.622332\n",
       "2016         9712527         0.326665             2052.360898\n",
       "2017        11562122         0.340594             2097.772138\n",
       "2018        13033721         0.331375             2399.697731"
      ]
     },
     "execution_count": 16,
     "metadata": {},
     "output_type": "execute_result"
    }
   ],
   "source": [
    "yearly_emmisions_gas = vehicle_year_gas.join(carbon_mean, rsuffix='carbon')\\\n",
    "    .join(methane_mean, rsuffix='methane')\n",
    "yearly_emmisions_gas"
   ]
  },
  {
   "cell_type": "code",
   "execution_count": 17,
   "metadata": {},
   "outputs": [
    {
     "data": {
      "text/html": [
       "<div>\n",
       "<style scoped>\n",
       "    .dataframe tbody tr th:only-of-type {\n",
       "        vertical-align: middle;\n",
       "    }\n",
       "\n",
       "    .dataframe tbody tr th {\n",
       "        vertical-align: top;\n",
       "    }\n",
       "\n",
       "    .dataframe thead th {\n",
       "        text-align: right;\n",
       "    }\n",
       "</style>\n",
       "<table border=\"1\" class=\"dataframe\">\n",
       "  <thead>\n",
       "    <tr style=\"text-align: right;\">\n",
       "      <th></th>\n",
       "      <th>Vehicles</th>\n",
       "      <th>arithmetic_mean</th>\n",
       "      <th>arithmetic_meanmethane</th>\n",
       "    </tr>\n",
       "  </thead>\n",
       "  <tbody>\n",
       "    <tr>\n",
       "      <th>Vehicles</th>\n",
       "      <td>1.000000</td>\n",
       "      <td>-0.703967</td>\n",
       "      <td>0.719081</td>\n",
       "    </tr>\n",
       "    <tr>\n",
       "      <th>arithmetic_mean</th>\n",
       "      <td>-0.703967</td>\n",
       "      <td>1.000000</td>\n",
       "      <td>-0.406216</td>\n",
       "    </tr>\n",
       "    <tr>\n",
       "      <th>arithmetic_meanmethane</th>\n",
       "      <td>0.719081</td>\n",
       "      <td>-0.406216</td>\n",
       "      <td>1.000000</td>\n",
       "    </tr>\n",
       "  </tbody>\n",
       "</table>\n",
       "</div>"
      ],
      "text/plain": [
       "                        Vehicles  arithmetic_mean  arithmetic_meanmethane\n",
       "Vehicles                1.000000        -0.703967                0.719081\n",
       "arithmetic_mean        -0.703967         1.000000               -0.406216\n",
       "arithmetic_meanmethane  0.719081        -0.406216                1.000000"
      ]
     },
     "execution_count": 17,
     "metadata": {},
     "output_type": "execute_result"
    }
   ],
   "source": [
    "yearly_emmisions_gas.corr()"
   ]
  },
  {
   "cell_type": "code",
   "execution_count": 18,
   "metadata": {},
   "outputs": [
    {
     "data": {
      "text/plain": [
       "<AxesSubplot:label='d1e79805-e924-41cc-926f-2b39f9a70f86', xlabel='Model Year', ylabel='arithmetic_meanmethane'>"
      ]
     },
     "execution_count": 18,
     "metadata": {},
     "output_type": "execute_result"
    },
    {
     "data": {
      "image/png": "[encoded data removed]",
      "text/plain": [
       "<Figure size 432x288 with 2 Axes>"
      ]
     },
     "metadata": {
      "needs_background": "light"
     },
     "output_type": "display_data"
    }
   ],
   "source": [
    "ax_gas= sns.lineplot(x=\"Model Year\", y=\"Vehicles\", data=yearly_emmisions_gas.reset_index())\n",
    "ax_gas_2 = ax_gas.twinx()\n",
    "sns.lineplot(x=\"Model Year\", y=\"arithmetic_meanmethane\", ax=ax_gas_2, color=\"orange\", data=yearly_emmisions_electric.reset_index())"
   ]
  },
  {
   "cell_type": "code",
   "execution_count": 19,
   "metadata": {},
   "outputs": [
    {
     "data": {
      "text/plain": [
       "<AxesSubplot:xlabel='Model Year', ylabel='Vehicles'>"
      ]
     },
     "execution_count": 19,
     "metadata": {},
     "output_type": "execute_result"
    },
    {
     "data": {
      "image/png": "[encoded data removed]",
      "text/plain": [
       "<Figure size 432x288 with 1 Axes>"
      ]
     },
     "metadata": {
      "needs_background": "light"
     },
     "output_type": "display_data"
    }
   ],
   "source": [
    "sns.lineplot(data=vehicle_year_electric, x=\"Model Year\", y=\"Vehicles\")"
   ]
  },
  {
   "cell_type": "code",
   "execution_count": null,
   "metadata": {},
   "outputs": [],
   "source": []
  },
  {
   "cell_type": "code",
   "execution_count": null,
   "metadata": {},
   "outputs": [],
   "source": []
  }
 ],
 "metadata": {
  "kernelspec": {
   "display_name": "Python 3",
   "language": "python",
   "name": "python3"
  },
  "language_info": {
   "codemirror_mode": {
    "name": "ipython",
    "version": 3
   },
   "file_extension": ".py",
   "mimetype": "text/x-python",
   "name": "python",
   "nbconvert_exporter": "python",
   "pygments_lexer": "ipython3",
   "version": "3.8.5"
  }
 },
 "nbformat": 4,
 "nbformat_minor": 5
}
